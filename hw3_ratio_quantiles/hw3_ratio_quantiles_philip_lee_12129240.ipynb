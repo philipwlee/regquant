{
 "cells": [
  {
   "cell_type": "code",
   "execution_count": 1,
   "id": "072361e7-df86-492a-85a2-d1bccb5b595a",
   "metadata": {},
   "outputs": [],
   "source": [
    "import numpy as np\n",
    "import pandas as pd\n",
    "import pandas_datareader as pdr\n",
    "pd.options.display.float_format = \"{:.4f}\".format\n",
    "import matplotlib.pyplot as plt\n",
    "from matplotlib import cm\n",
    "from matplotlib.lines import Line2D\n",
    "plt.rcParams[\"figure.figsize\"] = (16,10)\n",
    "plt.style.use(\"~/.dracula.mplstyle\")\n",
    "import datetime as dt\n",
    "import os, sys, time, asyncio\n",
    "import quandl\n",
    "import functools\n",
    "\n",
    "# QUANDL Config\n",
    "parent_path = os.path.abspath(os.path.join('..'))\n",
    "if parent_path not in sys.path:\n",
    "    sys.path.append(parent_path)\n",
    "from common.config import QUANDL_API_KEY\n",
    "# If you are not Philip, you don't have common.config unless you make your own.\n",
    "\n",
    "quandl.ApiConfig.api_key = QUANDL_API_KEY # Replace with your API key if running.\n",
    "# api = os.getenv(\"QUANDL_KEY\")"
   ]
  },
  {
   "cell_type": "markdown",
   "id": "97d85591-a70d-4f91-88bc-22bf130820c4",
   "metadata": {},
   "source": [
    "## Define `GLOBAL CONST` Variables"
   ]
  },
  {
   "cell_type": "code",
   "execution_count": 2,
   "id": "e6ceb2d9-e297-4475-9ed4-6360e65fe9fc",
   "metadata": {},
   "outputs": [],
   "source": [
    "START_DATE = dt.date(year=2014, month=1, day=1) - pd.DateOffset(months=3)\n",
    "END_DATE   = dt.date(year=2021, month=1, day=1)\n",
    "DATERANGE  = {\"gte\": START_DATE.strftime(\"%Y-%m-%d\"), \n",
    "              \"lte\": END_DATE.strftime(\"%Y-%m-%d\")}\n",
    "\n",
    "DE_THRESH = 0.1 # Debt/Market Cap Threshold\n",
    "\n",
    "DB_TED = \"FRED/TEDRATE\"\n",
    "DB_T3M = \"FRED/DTB3\"\n",
    "\n",
    "GC_DISCOUNT = 0.01"
   ]
  },
  {
   "cell_type": "code",
   "execution_count": 3,
   "id": "ceb91fb4-0560-4a33-a328-98f6de28713c",
   "metadata": {},
   "outputs": [
    {
     "name": "stdout",
     "output_type": "stream",
     "text": [
      "Defining quandl pull\n"
     ]
    }
   ],
   "source": [
    "if \"CACHED\" in globals():\n",
    "    print(\"Not re-defining.\")\n",
    "else:\n",
    "    print(\"Defining quandl pull\")\n",
    "    CACHED = True\n",
    "    @functools.lru_cache(maxsize=16)\n",
    "    def quandl_get_cached(pull, start_date, end_date):\n",
    "        ret = quandl.get(pull, start_date=start_date, end_date=end_date)\n",
    "        return ret\n",
    "    \n",
    "    @functools.lru_cache(maxsize=16)\n",
    "    def quandl_get_table_cached(db, assets, start_date, end_date):\n",
    "        ret = quandl.get_table(db, ticker=list(assets),\n",
    "                               date={\"gte\":START_DATE, \"lte\":END_DATE})\n",
    "        return ret"
   ]
  },
  {
   "cell_type": "markdown",
   "id": "6899ccc1-7571-4fb4-816d-c4ebbcce20af",
   "metadata": {},
   "source": [
    "# 1 Introduction\n",
    "\n",
    "Here you will consider a few financial accounting ratios, as an approxima- tion of “quantamental” models that typically take much more numerous and carefully defined financial accounting into consideration. You will then in- vestigate profit opportunity of a quantile-based long-short scheme.\n",
    "\n",
    "# 2 Understand Your Data\n",
    "\n",
    "Read all documentation webpages for Zacks Fundamentals B. You will see they supply 6 related tables, FC, FR, MT, MKTV, SHRC and HDM 1. The strategy coding for this assignment will be reasonably easy. The data assembly, deliberately, is the difficult part.\n",
    "# 3 Define the Universe\n",
    "\n",
    "Choose at least 200 tickers of US equities such that3 they satisfy the following:"
   ]
  },
  {
   "cell_type": "code",
   "execution_count": 4,
   "id": "a68fd648-4c5d-426d-87d9-600f632868db",
   "metadata": {},
   "outputs": [],
   "source": [
    "ted_raw = quandl_get_cached(DB_TED, START_DATE-pd.DateOffset(months=3), END_DATE)\n",
    "t3m_raw = quandl_get_cached(DB_T3M, START_DATE-pd.DateOffset(months=3), END_DATE)\n",
    "\n",
    "rates = (ted_raw.merge(t3m_raw, on=\"Date\").sum(axis=1) / 100).to_frame(\"libor\")\n",
    "rates[\"gc\"] = rates[\"libor\"] - GC_DISCOUNT # General Collateral Rate"
   ]
  },
  {
   "cell_type": "code",
   "execution_count": 5,
   "id": "83233813-5318-4fd9-b5d0-6bf271240405",
   "metadata": {},
   "outputs": [],
   "source": [
    "zmt = quandl.get_table(\"ZACKS/MT\", paginate=True)\n",
    "active_tickers = zmt[zmt[\"active_ticker_flag\"]=='Y'][\"m_ticker\"].unique()"
   ]
  },
  {
   "cell_type": "markdown",
   "id": "a9bbfb4e-c1d3-457a-95e1-470ca2dce32d",
   "metadata": {},
   "source": [
    "• debt/market cap ratio is greater than 0.1 somewhere in the period Jan 2014 through Jan 2021 (preferably more than fleetingly)\n",
    "\n",
    "**Implementation logic:** minimum debt/market cap ratio > 0.1"
   ]
  },
  {
   "cell_type": "code",
   "execution_count": 6,
   "id": "b775c1c7-2755-409e-9bc5-343e1cb886d9",
   "metadata": {},
   "outputs": [],
   "source": [
    "def filter_debt_mkt_cap(df):\n",
    "    \"\"\"Get Summary statistics for debt/market cap for exclusion\"\"\"\n",
    "    mu = df[\"tot_debt_tot_equity\"].mean()\n",
    "    sig = df[\"tot_debt_tot_equity\"].std()\n",
    "    mi = df[\"tot_debt_tot_equity\"].min()\n",
    "    ma = df[\"tot_debt_tot_equity\"].max()\n",
    "    st = df[\"per_end_date\"].min()\n",
    "    ed = df[\"per_end_date\"].max()\n",
    "    tick = df[\"ticker\"].iloc[0]\n",
    "    return pd.Series([tick, mu, sig, mi, ma, st, ed], index=[\"ticker\", \"mean\", \"std\", \"min\", \"max\", \"start\", \"end\"])\n",
    "\n",
    "filter_fr = {\"columns\":[\"m_ticker\", \"ticker\", \"per_type\", \"per_end_date\", \"tot_debt_tot_equity\", \n",
    "                        \"ret_invst\",]}\n",
    "zfr = quandl.get_table(\"ZACKS/FR\",  per_end_date=DATERANGE, qopts=filter_fr, paginate=True)\n",
    "\n",
    "debt_mkt_cap_df = zfr.dropna().groupby(\"m_ticker\").apply(filter_debt_mkt_cap).reset_index()\n",
    "allowed_debt_mkt_cap_tickers = debt_mkt_cap_df.loc[debt_mkt_cap_df[\"min\"]>DE_THRESH,\"m_ticker\"].unique()"
   ]
  },
  {
   "cell_type": "markdown",
   "id": "d303c41d-e8b0-4bbd-a620-2f0681da5e75",
   "metadata": {},
   "source": [
    "• not in the automotive, financial or insurance sector , over the entire period Jan 2014 through Jan 2021\n",
    "\n",
    "**Implementation logic:** `zacks_sector_code` not either 5 (auto) or 13 (financial or insurance)"
   ]
  },
  {
   "cell_type": "code",
   "execution_count": 7,
   "id": "f2cf1dd1-624f-417b-8e2d-29349cc876be",
   "metadata": {},
   "outputs": [],
   "source": [
    "def filter_excluded_sectors(df):\n",
    "    \"\"\"Not in automotive, financial or insurance sector\n",
    "    Auto=5; Finance, Insurance=13\"\"\"\n",
    "    if   (df[\"zacks_sector_code\"]==5).any():  return False\n",
    "    elif (df[\"zacks_sector_code\"]==13).any(): return False\n",
    "    else: return True\n",
    "    \n",
    "filter_fc = {\"columns\":[\"m_ticker\", \"ticker\", \"per_type\", \"per_end_date\", \"zacks_sector_code\", \"filing_date\", \n",
    "                        \"net_lterm_debt\", \"tot_lterm_debt\", \"eps_diluted_net\", \"basic_net_eps\"]}\n",
    "zfc = quandl.get_table(\"ZACKS/FC\",  per_end_date=DATERANGE, qopts=filter_fc, paginate=True)\n",
    "\n",
    "sector_df = zfc.groupby(\"m_ticker\").apply(filter_excluded_sectors).to_frame(\"allowed_sector\").reset_index()\n",
    "allowed_sector_tickers = sector_df.loc[sector_df[\"allowed_sector\"],\"m_ticker\"].unique()"
   ]
  },
  {
   "cell_type": "markdown",
   "id": "c4ec5b75-90a6-4a0e-ae99-80a8e4d1d5d8",
   "metadata": {},
   "source": [
    "• end-of-day adjusted closing prices are available, over the entire period Jan 2014 through Jan 2021\n",
    "\n",
    "**Implementation logic:** Define relevant tickers as those that satisfy the requirement for the previous two conditions. Pull relevant tickers from `QUOTEMEDIA/EOD` and count the number of datapoints. I assume `AAPL` trades all days, so therefore, any ticker with an equal number of trading days will have traded for the entire period."
   ]
  },
  {
   "cell_type": "code",
   "execution_count": 8,
   "id": "0ff7b677-d706-4477-b978-ead51fd04e4d",
   "metadata": {},
   "outputs": [],
   "source": [
    "def filter_closes(df):\n",
    "    \"\"\"Start and end dates of Time Series = GLOBAL CONST dates, counts number of closes.\"\"\"\n",
    "    st = df[\"date\"].min()\n",
    "    ed = df[\"date\"].max()\n",
    "    ct = df[\"date\"].count()\n",
    "    return pd.Series([st,ed,ct], index=[\"start\", \"end\", \"count\"])\n",
    "\n",
    "pull = set(allowed_debt_mkt_cap_tickers).intersection(set(allowed_sector_tickers))\n",
    "pull = zmt.set_index(\"m_ticker\").loc[pull,\"ticker\"].reset_index()\n",
    "third = int(len(pull)/3)\n",
    "\n",
    "filter_eod = {\"columns\":[\"ticker\", \"date\"]}\n",
    "\n",
    "# quandl.get_table() throws an error if the data retrieved is too big\n",
    "eod_raw1 = quandl.get_table('QUOTEMEDIA/PRICES', ticker=list(pull[\"ticker\"])[:third], \n",
    "                            date=DATERANGE, qopts=filter_eod, paginate=True)\n",
    "eod_raw2 = quandl.get_table('QUOTEMEDIA/PRICES', ticker=list(pull[\"ticker\"])[third:2*third], \n",
    "                            date=DATERANGE, qopts=filter_eod, paginate=True)\n",
    "eod_raw3 = quandl.get_table('QUOTEMEDIA/PRICES', ticker=list(pull[\"ticker\"])[2*third:], \n",
    "                            date=DATERANGE, qopts=filter_eod, paginate=True)\n",
    "eod_raw = pd.concat([eod_raw1, eod_raw2, eod_raw3], axis=0).reset_index(drop=True)\n",
    "\n",
    "traded_df = eod_raw.groupby(\"ticker\").apply(filter_closes).reset_index()\n",
    "\n",
    "# Use AAPL as ground truth for a stock trading all days within the time range\n",
    "aapl_count = traded_df[traded_df[\"ticker\"]==\"AAPL\"][\"count\"].values[0]\n",
    "traded_tickers = traded_df.loc[traded_df[\"count\"]==aapl_count, \"ticker\"].unique()"
   ]
  },
  {
   "cell_type": "code",
   "execution_count": 9,
   "id": "35473335-c1d0-47b9-8c51-b7286811cd40",
   "metadata": {},
   "outputs": [
    {
     "name": "stdout",
     "output_type": "stream",
     "text": [
      "ASH\tTrue\n",
      "VTOL\tTrue\n",
      "ISUN\tFalse\n",
      "VIVO\tTrue\n"
     ]
    }
   ],
   "source": [
    "for t in [\"ASH\", \"VTOL\", \"ISUN\", \"VIVO\"]:\n",
    "    #                     ^ ISUN's debt/market cap is too unstable\n",
    "    print(f\"{t}\\t{t in traded_tickers}\")"
   ]
  },
  {
   "cell_type": "markdown",
   "id": "de283864-0fdf-4170-ac91-c2f6c55ac6e7",
   "metadata": {},
   "source": [
    "• has feasible calculation of the ratios specified below , over the entire period Jan 2014 through Jan 2021, including for at least one PER END DATE no more than one year old. Debt ratio of zero is OK.\n",
    "\n",
    "• debt to market cap\n",
    "\n",
    "• return on investment\n",
    "\n",
    "• price to earnings"
   ]
  },
  {
   "cell_type": "code",
   "execution_count": 10,
   "id": "c806998c-dbd4-4937-85fe-93e41d064cf6",
   "metadata": {},
   "outputs": [],
   "source": [
    "# Get full EOD Dataset for tickers that meet above criteria\n",
    "\n",
    "fourth = int(len(traded_tickers)/4)\n",
    "\n",
    "eod_raw = []\n",
    "for i in range(3):\n",
    "    ts = list(traded_tickers)[i*fourth:(i+1)*fourth]\n",
    "    df = quandl.get_table('QUOTEMEDIA/PRICES', ticker=ts, date=DATERANGE, paginate=True)\n",
    "    eod_raw.append(df)\n",
    "\n",
    "ts = list(traded_tickers)[3*fourth:]\n",
    "df = quandl.get_table('QUOTEMEDIA/PRICES', ticker=ts, date=DATERANGE, paginate=True)\n",
    "eod_raw.append(df)\n",
    "\n",
    "eod = pd.concat(eod_raw, axis=0).reset_index(drop=True)\n",
    "eod.sort_values([\"ticker\", \"date\"], inplace=True)"
   ]
  },
  {
   "cell_type": "code",
   "execution_count": 11,
   "id": "b65e3c10-a0fb-42b8-afb5-32875f2641fa",
   "metadata": {},
   "outputs": [
    {
     "name": "stdout",
     "output_type": "stream",
     "text": [
      "Total tickers: 1123\n"
     ]
    }
   ],
   "source": [
    "# Sanity check\n",
    "assert len(traded_tickers) == (eod.groupby(\"ticker\").count()[\"date\"]==aapl_count).sum()\n",
    "print(f\"Total tickers: {len(traded_tickers)}\")"
   ]
  },
  {
   "cell_type": "code",
   "execution_count": 12,
   "id": "709a89bb-b415-434b-9038-70c1067a9fa0",
   "metadata": {},
   "outputs": [],
   "source": [
    "# Prepare tables for merging\n",
    "sub_zfc = zfc.set_index(\"ticker\").loc[traded_tickers,:].reset_index()\n",
    "sub_zfr = zfr.set_index(\"ticker\").loc[traded_tickers,:].reset_index()\n",
    "filter_zsh = {\"columns\":[\"m_ticker\", \"ticker\", \"per_type\", \"per_end_date\", \"shares_out\"]}\n",
    "sub_zsh = quandl.get_table('ZACKS/SHRS', ticker=list(traded_tickers), qopts=filter_zsh,\n",
    "                           per_end_date=DATERANGE, paginate=True)\n",
    "filter_zmk = {\"columns\":[\"m_ticker\", \"ticker\", \"per_type\", \"per_end_date\", \"mkt_val\"]}\n",
    "sub_zmk = quandl.get_table('ZACKS/MKTV', ticker=list(traded_tickers), qopts=filter_zmk,\n",
    "                           per_end_date=DATERANGE, paginate=True)"
   ]
  },
  {
   "cell_type": "markdown",
   "id": "8487a284-e5c2-42d9-bde0-14b9c359d4aa",
   "metadata": {},
   "source": [
    "Combine all fundamental tables into a table called `zacks`. This makes merging with EOD data easier."
   ]
  },
  {
   "cell_type": "code",
   "execution_count": 13,
   "id": "ade25789-8f9a-4f96-8316-1e3bc9ace751",
   "metadata": {},
   "outputs": [],
   "source": [
    "# Merges done here using inner join\n",
    "zacks = sub_zfc[sub_zfc[\"per_type\"]=='Q']\n",
    "zacks = zacks.merge(sub_zfr[sub_zfr[\"per_type\"]=='Q'], on=[\"per_end_date\", \"m_ticker\"], suffixes=['', '_delete0'])\n",
    "zacks = zacks.merge(sub_zsh[sub_zsh[\"per_type\"]=='Q'], on=[\"per_end_date\", \"m_ticker\"], suffixes=['', '_delete1'])\n",
    "zacks = zacks.merge(sub_zmk[sub_zmk[\"per_type\"]=='Q'], on=[\"per_end_date\", \"m_ticker\"], suffixes=['', '_delete2'])\n",
    "zacks = zacks[[z for z in zacks.columns if \"_delete\" not in z]]\n",
    "zacks.sort_values([\"ticker\", \"per_end_date\"], inplace=True)"
   ]
  },
  {
   "cell_type": "markdown",
   "id": "d01ab068-5269-42d3-a6db-fc1738c52313",
   "metadata": {},
   "source": [
    "## Eliminate Failed Merges\n",
    "\n",
    "By discarding tickers with unacceptably many NaN values. Prevent Quandl Database issues from hindering the proper analysis of ratios. Trading on poor quality data may cause diminished returns due to the absence of a significant signal."
   ]
  },
  {
   "cell_type": "code",
   "execution_count": 14,
   "id": "edd2ef3b-640c-4b63-a79d-2aebc9d7acda",
   "metadata": {},
   "outputs": [],
   "source": [
    "def count_nas(df):\n",
    "    return df.isna().sum(axis=0)\n",
    "\n",
    "zacks_nas = zacks.groupby(\"m_ticker\").apply(count_nas)\n",
    "no_filing_date = zacks_nas[zacks_nas[\"filing_date\"]>0].index\n",
    "\n",
    "zacks_count = zacks.groupby(\"m_ticker\").count()\n",
    "quarters = 28\n",
    "not_enough_quarters = zacks_count[zacks_count[\"ticker\"]<quarters].index\n",
    "\n",
    "thresh = 8\n",
    "missing_debt = zacks_nas[(zacks_nas[\"net_lterm_debt\"]>thresh) & (zacks_nas[\"tot_lterm_debt\"]>thresh)].index\n",
    "\n",
    "missing_de = zacks_nas[(zacks_nas[\"tot_debt_tot_equity\"]>thresh)].index\n",
    "\n",
    "missing_roi = zacks_nas[(zacks_nas[\"ret_invst\"]>thresh)].index\n",
    "\n",
    "to_discard = set(no_filing_date).union(set(not_enough_quarters), set(missing_debt), \n",
    "                                       set(missing_de), set(missing_roi))\n",
    "zacks = zacks.set_index(\"m_ticker\").loc[set(zacks[\"m_ticker\"]) - to_discard,:].reset_index()"
   ]
  },
  {
   "cell_type": "markdown",
   "id": "8c785cf4-05d5-4fb1-a1c1-0bbf9aeccc57",
   "metadata": {},
   "source": [
    "At times, `per_end_date` is not a trading day. Therefore, we must fill in data from previous trading days to find a closing price for all `per_end_date`s."
   ]
  },
  {
   "cell_type": "code",
   "execution_count": 15,
   "id": "08ef3d81-47ab-46c7-9563-29dff39867ad",
   "metadata": {},
   "outputs": [],
   "source": [
    "for i in range(5):\n",
    "    temp = eod[[\"ticker\", \"date\", \"adj_close\"]].copy(deep=True)\n",
    "    temp[\"date\"] = temp[\"date\"]+pd.DateOffset(days=i)\n",
    "    zacks = zacks.merge(temp, \n",
    "                        left_on=[\"ticker\", \"per_end_date\"], \n",
    "                        right_on=[\"ticker\", \"date\"], how=\"left\", suffixes=['', f\"_{i}\"])\n",
    "\n",
    "for i in range(1,5):\n",
    "    zacks[\"adj_close\"] = zacks[\"adj_close\"].combine_first(zacks[f\"adj_close_{i}\"])\n",
    "    \n",
    "zacks.drop(\"date\", axis=1, inplace=True)\n",
    "zacks.drop(zacks.columns[15:], axis=1, inplace=True)\n",
    "zacks.rename(columns={\"adj_close\": \"end_adj_close\"}, inplace=True)"
   ]
  },
  {
   "cell_type": "markdown",
   "id": "f1a6a37f-0e7d-4929-956f-beeacf075682",
   "metadata": {},
   "source": [
    "Consolidate `debt` and `eps` figures for ease of use in future calculations. "
   ]
  },
  {
   "cell_type": "code",
   "execution_count": 16,
   "id": "4463dfe2-8d88-467a-adc0-973436643795",
   "metadata": {},
   "outputs": [],
   "source": [
    "def create_debt(df):\n",
    "    if df[\"net_lterm_debt\"].isna().any():\n",
    "        return df[[\"per_end_date\", \"tot_lterm_debt\"]]\n",
    "    else:\n",
    "        return df[[\"per_end_date\", \"net_lterm_debt\"]]\n",
    "    \n",
    "def create_eps(df):\n",
    "    if df[\"eps_diluted_net\"].isna().any():\n",
    "        return df[[\"per_end_date\", \"basic_net_eps\"]]\n",
    "    else:\n",
    "        return df[[\"per_end_date\", \"eps_diluted_net\"]]\n",
    "\n",
    "debt = zacks.groupby(\"m_ticker\").apply(create_debt).reset_index()\n",
    "eps = zacks.groupby(\"m_ticker\").apply(create_eps).reset_index()\n",
    "zacks[\"debt\"] = debt[\"net_lterm_debt\"].fillna(0) + debt[\"tot_lterm_debt\"].fillna(0)\n",
    "zacks[\"eps\"] = eps[\"eps_diluted_net\"].fillna(0) + eps[\"basic_net_eps\"].fillna(0)\n",
    "zacks[\"ret\"] = zacks[\"ret_invst\"] * (zacks[\"debt\"] + zacks[\"mkt_val\"])\n",
    "zacks.fillna(method=\"ffill\", inplace=True)"
   ]
  },
  {
   "cell_type": "markdown",
   "id": "eac68063-11cd-417b-81b7-0a7353fef083",
   "metadata": {},
   "source": [
    "## Final Raw Data Build\n",
    "\n",
    "Merge fundamentals with EOD prices. If this is done properly, calculating signal financial ratios will yield results consistent with the provided calculations on the homework instructions. If the ratios are incorrect, it is most likely that we made a mistake with data cleaning above or in the following merge cell."
   ]
  },
  {
   "cell_type": "code",
   "execution_count": 17,
   "id": "f717b022-58d5-46e9-b26d-ac30f9be06d6",
   "metadata": {},
   "outputs": [],
   "source": [
    "eodz = eod.set_index(\"ticker\").loc[set(zacks[\"ticker\"]),:].reset_index()\n",
    "eodz = eodz.merge(zacks, left_on=[\"ticker\", \"date\"], right_on=[\"ticker\", \"filing_date\"], how=\"left\")\n",
    "eodz[eodz.columns[14:]] = eodz[eodz.columns[14:]].shift(1)\n",
    "to_fill = eodz.columns[14:]\n",
    "\n",
    "eodz[to_fill] = eodz.groupby(\"ticker\").fillna(method=\"ffill\")[to_fill]\n",
    "eodz = eodz[eodz[\"date\"]>\"2014\"].reset_index(drop=True)"
   ]
  },
  {
   "cell_type": "markdown",
   "id": "e44d9c1c-8e1c-48b3-b6a5-db02ad53cafe",
   "metadata": {},
   "source": [
    "# 4 Select Financial Ratios\n",
    "\n",
    "For this assignment, we will work with the following ratios:\n",
    "\n",
    "• debt to market cap\n",
    "\n",
    "• return on investment\n",
    "\n",
    "• price to earnings\n",
    "\n",
    "Note that these data items are reported (at best) quarterly. Use annual numbers only when quarterly ones do not exist. As the equity price changes day-to-day, each ratio changes accordingly, so ultimately the time series you have will be on daily data. Recall that we did not know any of these numbers until the FC/FILING DATE."
   ]
  },
  {
   "cell_type": "markdown",
   "id": "e00efcb9-50f7-4544-8456-ecd5ec86921c",
   "metadata": {},
   "source": [
    "## Calculate Financial Ratios used as Trading Signals\n",
    "\n",
    "`debt_mkt_cap` reveals information about how much a company is encumbered by financing obligations. A low `debt_mkt_cap` ratio signals the strength of a business and its lack of reliance on external financing. High `debt_mkt_cap` ratios may indicate that a company's financial position has become dire, overly encumbered by debt that erodes the businesses profitability. Consider two companies with identical income statements up to EBITDA: the one with lower `debt_mkt_cap` will have lower interest expenses and thus higher profitability.\n",
    "\n",
    "`roi` reveals a company's ability to earn based on the size of its balance sheet. A high `roi` is interpreted favorably as a large yield compared with teh combination of the firm's debt and equity. A low `roi` identifies a poor investment.\n",
    "\n",
    "`earnings_yield` addresses a company's profit in proportion to its valuation. A higher `earnings_yield` means that the company is generating more profit relative to its share price, therefore indicating that the stock is at a fair price poised for growth. A lower `earnings_yield` indicates lower profitability or even per-share losses.\n",
    "\n",
    "`price_earnings` is not used in the below analysis. The substitution of `earnings_yield` for `price_earnings` was approved by Professor Boonstra on Edstem. `price_earnings` is a bad indicator because it exhibits asymptotic behavior as earnings approaches 0. `price_earnings` is confusing to interpret since negative values of larger magnitude indicate superior performance whereas positive values of larger magnitude indicate that the asset is overpriced."
   ]
  },
  {
   "cell_type": "code",
   "execution_count": 18,
   "id": "bdbcc26f-62aa-41ac-ae02-d036f6ec2c4c",
   "metadata": {},
   "outputs": [],
   "source": [
    "eodz[\"debt_mkt_cap\"] = eodz[\"tot_debt_tot_equity\"] * eodz[\"end_adj_close\"] / eodz[\"adj_close\"]\n",
    "eodz[\"roi\"] = eodz[\"ret\"] / (eodz[\"debt\"] + eodz[\"mkt_val\"] * eodz[\"adj_close\"] / eodz[\"end_adj_close\"])\n",
    "eodz[\"earnings_yield\"] = eodz[\"eps\"] / eodz[\"adj_close\"]\n",
    "eodz[\"price_earnings\"] = eodz[\"adj_close\"] / eodz[\"eps\"]"
   ]
  },
  {
   "cell_type": "markdown",
   "id": "dbdfb077-ab8a-4846-9c38-4058afddc5ab",
   "metadata": {},
   "source": [
    "## Check to verify numbers against Table 6.0.2\n",
    "\n",
    "`debt_mkt_cap` and `price_earnings` match perfectly. `roi` is very close and exhibits the same behavior. Because the constructed data matches the instructions on 6.0.2 near perfectly, we can be confident in using it for our trading strategy."
   ]
  },
  {
   "cell_type": "code",
   "execution_count": 19,
   "id": "e43f34fc-e899-481a-a521-b2a26b9aabb8",
   "metadata": {},
   "outputs": [
    {
     "data": {
      "text/html": [
       "<div>\n",
       "<style scoped>\n",
       "    .dataframe tbody tr th:only-of-type {\n",
       "        vertical-align: middle;\n",
       "    }\n",
       "\n",
       "    .dataframe tbody tr th {\n",
       "        vertical-align: top;\n",
       "    }\n",
       "\n",
       "    .dataframe thead th {\n",
       "        text-align: right;\n",
       "    }\n",
       "</style>\n",
       "<table border=\"1\" class=\"dataframe\">\n",
       "  <thead>\n",
       "    <tr style=\"text-align: right;\">\n",
       "      <th></th>\n",
       "      <th>debt_mkt_cap</th>\n",
       "      <th>roi</th>\n",
       "      <th>price_earnings</th>\n",
       "    </tr>\n",
       "  </thead>\n",
       "  <tbody>\n",
       "    <tr>\n",
       "      <th>2019-10-25</th>\n",
       "      <td>5.5545</td>\n",
       "      <td>8.0453</td>\n",
       "      <td>73.4678</td>\n",
       "    </tr>\n",
       "    <tr>\n",
       "      <th>2019-10-28</th>\n",
       "      <td>4.3524</td>\n",
       "      <td>7.2555</td>\n",
       "      <td>79.1767</td>\n",
       "    </tr>\n",
       "    <tr>\n",
       "      <th>2019-12-31</th>\n",
       "      <td>3.7202</td>\n",
       "      <td>6.3041</td>\n",
       "      <td>92.6316</td>\n",
       "    </tr>\n",
       "    <tr>\n",
       "      <th>2020-01-02</th>\n",
       "      <td>3.6982</td>\n",
       "      <td>6.2705</td>\n",
       "      <td>93.1813</td>\n",
       "    </tr>\n",
       "    <tr>\n",
       "      <th>2020-02-19</th>\n",
       "      <td>3.4538</td>\n",
       "      <td>5.8938</td>\n",
       "      <td>99.7747</td>\n",
       "    </tr>\n",
       "    <tr>\n",
       "      <th>2020-02-20</th>\n",
       "      <td>5.2252</td>\n",
       "      <td>8.4036</td>\n",
       "      <td>77.8683</td>\n",
       "    </tr>\n",
       "    <tr>\n",
       "      <th>2020-03-31</th>\n",
       "      <td>5.3488</td>\n",
       "      <td>8.5838</td>\n",
       "      <td>76.0697</td>\n",
       "    </tr>\n",
       "    <tr>\n",
       "      <th>2020-04-01</th>\n",
       "      <td>5.4389</td>\n",
       "      <td>8.7147</td>\n",
       "      <td>74.8084</td>\n",
       "    </tr>\n",
       "    <tr>\n",
       "      <th>2020-05-01</th>\n",
       "      <td>4.8297</td>\n",
       "      <td>7.8217</td>\n",
       "      <td>84.2459</td>\n",
       "    </tr>\n",
       "    <tr>\n",
       "      <th>2020-05-04</th>\n",
       "      <td>4.8773</td>\n",
       "      <td>7.7429</td>\n",
       "      <td>92.9847</td>\n",
       "    </tr>\n",
       "    <tr>\n",
       "      <th>2020-06-30</th>\n",
       "      <td>4.5323</td>\n",
       "      <td>7.2398</td>\n",
       "      <td>100.0623</td>\n",
       "    </tr>\n",
       "    <tr>\n",
       "      <th>2020-07-01</th>\n",
       "      <td>4.5567</td>\n",
       "      <td>7.2756</td>\n",
       "      <td>99.5260</td>\n",
       "    </tr>\n",
       "    <tr>\n",
       "      <th>2020-07-31</th>\n",
       "      <td>4.9512</td>\n",
       "      <td>7.8499</td>\n",
       "      <td>91.5968</td>\n",
       "    </tr>\n",
       "    <tr>\n",
       "      <th>2020-08-03</th>\n",
       "      <td>4.1057</td>\n",
       "      <td>7.7935</td>\n",
       "      <td>96.1558</td>\n",
       "    </tr>\n",
       "    <tr>\n",
       "      <th>2020-09-30</th>\n",
       "      <td>4.2186</td>\n",
       "      <td>7.9873</td>\n",
       "      <td>93.5814</td>\n",
       "    </tr>\n",
       "    <tr>\n",
       "      <th>2020-10-01</th>\n",
       "      <td>4.3277</td>\n",
       "      <td>8.1736</td>\n",
       "      <td>91.2232</td>\n",
       "    </tr>\n",
       "    <tr>\n",
       "      <th>2020-10-28</th>\n",
       "      <td>4.7555</td>\n",
       "      <td>8.8954</td>\n",
       "      <td>83.0170</td>\n",
       "    </tr>\n",
       "    <tr>\n",
       "      <th>2020-10-29</th>\n",
       "      <td>3.7824</td>\n",
       "      <td>6.2508</td>\n",
       "      <td>97.6628</td>\n",
       "    </tr>\n",
       "    <tr>\n",
       "      <th>2020-12-31</th>\n",
       "      <td>2.9539</td>\n",
       "      <td>5.0068</td>\n",
       "      <td>125.0540</td>\n",
       "    </tr>\n",
       "  </tbody>\n",
       "</table>\n",
       "</div>"
      ],
      "text/plain": [
       "           debt_mkt_cap    roi price_earnings\n",
       "2019-10-25       5.5545 8.0453        73.4678\n",
       "2019-10-28       4.3524 7.2555        79.1767\n",
       "2019-12-31       3.7202 6.3041        92.6316\n",
       "2020-01-02       3.6982 6.2705        93.1813\n",
       "2020-02-19       3.4538 5.8938        99.7747\n",
       "2020-02-20       5.2252 8.4036        77.8683\n",
       "2020-03-31       5.3488 8.5838        76.0697\n",
       "2020-04-01       5.4389 8.7147        74.8084\n",
       "2020-05-01       4.8297 7.8217        84.2459\n",
       "2020-05-04       4.8773 7.7429        92.9847\n",
       "2020-06-30       4.5323 7.2398       100.0623\n",
       "2020-07-01       4.5567 7.2756        99.5260\n",
       "2020-07-31       4.9512 7.8499        91.5968\n",
       "2020-08-03       4.1057 7.7935        96.1558\n",
       "2020-09-30       4.2186 7.9873        93.5814\n",
       "2020-10-01       4.3277 8.1736        91.2232\n",
       "2020-10-28       4.7555 8.8954        83.0170\n",
       "2020-10-29       3.7824 6.2508        97.6628\n",
       "2020-12-31       2.9539 5.0068       125.0540"
      ]
     },
     "execution_count": 19,
     "metadata": {},
     "output_type": "execute_result"
    }
   ],
   "source": [
    "check = [\"2019-10-25\", \"2019-10-28\", \"2019-12-31\", \"2020-01-02\", \"2020-02-19\", \n",
    "         \"2020-02-20\", \"2020-03-31\", \"2020-04-01\", \"2020-05-01\", \"2020-05-04\", \n",
    "         \"2020-06-30\", \"2020-07-01\", \"2020-07-31\", \"2020-08-03\", \"2020-09-30\", \n",
    "         \"2020-10-01\", \"2020-10-28\", \"2020-10-29\", \"2020-12-31\"]\n",
    "\n",
    "lly = []\n",
    "temp = eodz[eodz[\"ticker\"]==\"LLY\"].set_index(\"date\")\n",
    "for c in check:\n",
    "    lly.append(temp.loc[c,:])\n",
    "pd.concat(lly, axis=1).T[[\"debt_mkt_cap\", \"roi\", \"price_earnings\"]]"
   ]
  },
  {
   "cell_type": "markdown",
   "id": "583ec59e-5d82-4859-aad2-da38a3c96da6",
   "metadata": {},
   "source": [
    "# 5 Analysis\n",
    "\n",
    "Study performance of weekly or monthly quantile trading strategies using each of these single ratios as well as your choice of least one nontrivial combination of them.\n",
    "\n",
    "Set initial capital to be 10 times the gross notional of your first month’s set of positions. You may assume zero trading costs, that trading fractional shares and arbitrary positions sizes are possible, that all securities are easy to borrow with a repo rate equal to your funding rate minus 100bp, and that the portfolio capital is equal to the initial capital, adjusted for all realized and unrealized PL to date. Choose either a constant funding rate, or rolling 3-month LIBOR.\n",
    "Analyze performance of a top-and-bottom decile trading strategy. Now rank based on changes in your ratios rather than the ratios themselves. Play with the effects of sizing positions by rank."
   ]
  },
  {
   "cell_type": "code",
   "execution_count": 20,
   "id": "0408f986-20f6-4df7-afee-18bba489bcb0",
   "metadata": {},
   "outputs": [
    {
     "data": {
      "image/png": "[encoded data removed]",
      "text/plain": [
       "<Figure size 1152x720 with 1 Axes>"
      ]
     },
     "metadata": {},
     "output_type": "display_data"
    }
   ],
   "source": [
    "def ticker_nas(df):\n",
    "    l = len(df)\n",
    "    no_de = df[\"debt_mkt_cap\"].isna().sum()\n",
    "    no_ro = df[\"roi\"].isna().sum()\n",
    "    no_ey = df[\"price_earnings\"].isna().sum()\n",
    "    return pd.Series([l, no_de, no_ro, no_ey], index=[\"length\", \"no_de\", \"no_ro\", \"no_ey\"])\n",
    "\n",
    "eodz = eodz[eodz[\"date\"]>=\"2014-03-01\"].sort_values([\"date\", \"ticker\"]).reset_index(drop=True)\n",
    "eodz.groupby(\"ticker\").apply(ticker_nas)[\"no_de\"].plot.hist()\n",
    "plt.title(\"Frequency of NaN values: vast majority have no NaNs\")\n",
    "plt.show()"
   ]
  },
  {
   "cell_type": "code",
   "execution_count": 21,
   "id": "42b781cd-08fc-4384-81e6-6bd7bc1142ed",
   "metadata": {},
   "outputs": [],
   "source": [
    "cols = [\"ticker\", \"date\", \"debt_mkt_cap\", \"roi\", \"earnings_yield\"]\n",
    "\n",
    "center_of_mass = 5\n",
    "ewm_ind = eodz[cols].groupby(\"ticker\").ewm(com=center_of_mass).mean()\n",
    "\n",
    "signal_cols = [\"sig_de\", \"sig_roi\", \"sig_ey\"]\n",
    "eodz[signal_cols] = ewm_ind.reset_index(level=0, drop=True).sort_index()"
   ]
  },
  {
   "cell_type": "code",
   "execution_count": 22,
   "id": "48d875e2-cd29-47c7-9a72-0fd43d8969bb",
   "metadata": {},
   "outputs": [],
   "source": [
    "def quantile_assignment(df, field):\n",
    "    \"\"\"Assigns quantiles to each field\n",
    "    Fills NaN values as 5 to not interfere with trading logic.\"\"\"\n",
    "    df[f\"q_{field}\"] = pd.qcut(df[field], 10, labels=False).fillna(5)\n",
    "    return df\n",
    "\n",
    "eodz = eodz.groupby(\"date\").apply(quantile_assignment, field=\"sig_de\")\n",
    "eodz = eodz.groupby(\"date\").apply(quantile_assignment, field=\"sig_roi\")\n",
    "eodz = eodz.groupby(\"date\").apply(quantile_assignment, field=\"sig_ey\")"
   ]
  },
  {
   "cell_type": "code",
   "execution_count": 23,
   "id": "7ce2da6f-5ca4-41dd-aeee-1fe59297c41c",
   "metadata": {},
   "outputs": [],
   "source": [
    "eodz_cols = [\"date\", \"ticker\", \"adj_close\", \"q_sig_de\", \"q_sig_roi\", \"q_sig_ey\"]\n",
    "\n",
    "trading_df = eodz[eodz_cols].copy(deep=True)\n",
    "gc_rate = (rates[\"gc\"] / 52).rolling(30).mean().to_frame().reset_index().rename(columns={\"Date\": \"date\"})\n",
    "trading_df = trading_df.merge(gc_rate, on=\"date\")\n",
    "trading_df.set_index(\"date\", inplace=True)\n",
    "\n",
    "trading_df = trading_df.groupby(\"ticker\").resample(\"W-Fri\", label=\"right\").last()\n",
    "trading_df = trading_df.reset_index(level=0, drop=True)\n",
    "trading_df.sort_index(inplace=True)"
   ]
  },
  {
   "cell_type": "code",
   "execution_count": 24,
   "id": "c90aa4d1-936c-4691-b2cb-fdb3a38f757f",
   "metadata": {},
   "outputs": [
    {
     "data": {
      "text/plain": [
       "0.06217858812529219"
      ]
     },
     "execution_count": 24,
     "metadata": {},
     "output_type": "execute_result"
    }
   ],
   "source": [
    "((trading_df[\"q_sig_roi\"] + trading_df[\"q_sig_ey\"]) > 16).sum() / len(trading_df)"
   ]
  },
  {
   "cell_type": "code",
   "execution_count": 25,
   "id": "2efda529-0269-4775-9ce9-a009ded0c9e5",
   "metadata": {},
   "outputs": [
    {
     "data": {
      "text/html": [
       "<div>\n",
       "<style scoped>\n",
       "    .dataframe tbody tr th:only-of-type {\n",
       "        vertical-align: middle;\n",
       "    }\n",
       "\n",
       "    .dataframe tbody tr th {\n",
       "        vertical-align: top;\n",
       "    }\n",
       "\n",
       "    .dataframe thead th {\n",
       "        text-align: right;\n",
       "    }\n",
       "</style>\n",
       "<table border=\"1\" class=\"dataframe\">\n",
       "  <thead>\n",
       "    <tr style=\"text-align: right;\">\n",
       "      <th></th>\n",
       "      <th>ticker</th>\n",
       "      <th>adj_close</th>\n",
       "      <th>q_sig_de</th>\n",
       "      <th>q_sig_roi</th>\n",
       "      <th>q_sig_ey</th>\n",
       "      <th>gc</th>\n",
       "    </tr>\n",
       "    <tr>\n",
       "      <th>date</th>\n",
       "      <th></th>\n",
       "      <th></th>\n",
       "      <th></th>\n",
       "      <th></th>\n",
       "      <th></th>\n",
       "      <th></th>\n",
       "    </tr>\n",
       "  </thead>\n",
       "  <tbody>\n",
       "    <tr>\n",
       "      <th>2014-03-07</th>\n",
       "      <td>AAP</td>\n",
       "      <td>122.6084</td>\n",
       "      <td>4.0000</td>\n",
       "      <td>5.0000</td>\n",
       "      <td>2.0000</td>\n",
       "      <td>-0.0001</td>\n",
       "    </tr>\n",
       "    <tr>\n",
       "      <th>2014-03-07</th>\n",
       "      <td>GEL</td>\n",
       "      <td>29.5583</td>\n",
       "      <td>7.0000</td>\n",
       "      <td>2.0000</td>\n",
       "      <td>2.0000</td>\n",
       "      <td>-0.0001</td>\n",
       "    </tr>\n",
       "    <tr>\n",
       "      <th>2014-03-07</th>\n",
       "      <td>ACCO</td>\n",
       "      <td>5.4243</td>\n",
       "      <td>8.0000</td>\n",
       "      <td>8.0000</td>\n",
       "      <td>9.0000</td>\n",
       "      <td>-0.0001</td>\n",
       "    </tr>\n",
       "    <tr>\n",
       "      <th>2014-03-07</th>\n",
       "      <td>OTTR</td>\n",
       "      <td>23.4867</td>\n",
       "      <td>5.0000</td>\n",
       "      <td>3.0000</td>\n",
       "      <td>6.0000</td>\n",
       "      <td>-0.0001</td>\n",
       "    </tr>\n",
       "    <tr>\n",
       "      <th>2014-03-07</th>\n",
       "      <td>FISV</td>\n",
       "      <td>29.3900</td>\n",
       "      <td>7.0000</td>\n",
       "      <td>7.0000</td>\n",
       "      <td>5.0000</td>\n",
       "      <td>-0.0001</td>\n",
       "    </tr>\n",
       "    <tr>\n",
       "      <th>...</th>\n",
       "      <td>...</td>\n",
       "      <td>...</td>\n",
       "      <td>...</td>\n",
       "      <td>...</td>\n",
       "      <td>...</td>\n",
       "      <td>...</td>\n",
       "    </tr>\n",
       "    <tr>\n",
       "      <th>2021-01-01</th>\n",
       "      <td>SREV</td>\n",
       "      <td>1.7600</td>\n",
       "      <td>0.0000</td>\n",
       "      <td>0.0000</td>\n",
       "      <td>1.0000</td>\n",
       "      <td>-0.0001</td>\n",
       "    </tr>\n",
       "    <tr>\n",
       "      <th>2021-01-01</th>\n",
       "      <td>CLH</td>\n",
       "      <td>76.1000</td>\n",
       "      <td>5.0000</td>\n",
       "      <td>5.0000</td>\n",
       "      <td>6.0000</td>\n",
       "      <td>-0.0001</td>\n",
       "    </tr>\n",
       "    <tr>\n",
       "      <th>2021-01-01</th>\n",
       "      <td>STX</td>\n",
       "      <td>60.2356</td>\n",
       "      <td>8.0000</td>\n",
       "      <td>8.0000</td>\n",
       "      <td>6.0000</td>\n",
       "      <td>-0.0001</td>\n",
       "    </tr>\n",
       "    <tr>\n",
       "      <th>2021-01-01</th>\n",
       "      <td>EVTC</td>\n",
       "      <td>39.1323</td>\n",
       "      <td>7.0000</td>\n",
       "      <td>8.0000</td>\n",
       "      <td>6.0000</td>\n",
       "      <td>-0.0001</td>\n",
       "    </tr>\n",
       "    <tr>\n",
       "      <th>2021-01-01</th>\n",
       "      <td>ZTS</td>\n",
       "      <td>164.3358</td>\n",
       "      <td>8.0000</td>\n",
       "      <td>9.0000</td>\n",
       "      <td>3.0000</td>\n",
       "      <td>-0.0001</td>\n",
       "    </tr>\n",
       "  </tbody>\n",
       "</table>\n",
       "<p>254541 rows × 6 columns</p>\n",
       "</div>"
      ],
      "text/plain": [
       "           ticker  adj_close  q_sig_de  q_sig_roi  q_sig_ey      gc\n",
       "date                                                               \n",
       "2014-03-07    AAP   122.6084    4.0000     5.0000    2.0000 -0.0001\n",
       "2014-03-07    GEL    29.5583    7.0000     2.0000    2.0000 -0.0001\n",
       "2014-03-07   ACCO     5.4243    8.0000     8.0000    9.0000 -0.0001\n",
       "2014-03-07   OTTR    23.4867    5.0000     3.0000    6.0000 -0.0001\n",
       "2014-03-07   FISV    29.3900    7.0000     7.0000    5.0000 -0.0001\n",
       "...           ...        ...       ...        ...       ...     ...\n",
       "2021-01-01   SREV     1.7600    0.0000     0.0000    1.0000 -0.0001\n",
       "2021-01-01    CLH    76.1000    5.0000     5.0000    6.0000 -0.0001\n",
       "2021-01-01    STX    60.2356    8.0000     8.0000    6.0000 -0.0001\n",
       "2021-01-01   EVTC    39.1323    7.0000     8.0000    6.0000 -0.0001\n",
       "2021-01-01    ZTS   164.3358    8.0000     9.0000    3.0000 -0.0001\n",
       "\n",
       "[254541 rows x 6 columns]"
      ]
     },
     "execution_count": 25,
     "metadata": {},
     "output_type": "execute_result"
    }
   ],
   "source": [
    "trading_df"
   ]
  }
 ],
 "metadata": {
  "kernelspec": {
   "display_name": "Python 3",
   "language": "python",
   "name": "python3"
  },
  "language_info": {
   "codemirror_mode": {
    "name": "ipython",
    "version": 3
   },
   "file_extension": ".py",
   "mimetype": "text/x-python",
   "name": "python",
   "nbconvert_exporter": "python",
   "pygments_lexer": "ipython3",
   "version": "3.9.6"
  }
 },
 "nbformat": 4,
 "nbformat_minor": 5
}
