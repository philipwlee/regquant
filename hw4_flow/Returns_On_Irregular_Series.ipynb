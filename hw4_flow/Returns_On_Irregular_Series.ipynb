{
 "cells": [
  {
   "cell_type": "markdown",
   "metadata": {},
   "source": [
    "# Returns From Irregular Time Series"
   ]
  },
  {
   "cell_type": "markdown",
   "metadata": {},
   "source": [
    "Getting returns from an irregular time series should, for efficiency, always be done as a vector operation.  In **R** I prefer `data.table` with the `roll` and `mult` arguments.  In python, I use _pandas_ `reindex`.\n",
    "\n",
    "Here we have in irregular time series of closing equity prices, with weekends missing of course.  From this, we form 2-day returns."
   ]
  },
  {
   "cell_type": "code",
   "execution_count": 1,
   "metadata": {
    "ExecuteTime": {
     "end_time": "2020-05-01T23:52:46.095569Z",
     "start_time": "2020-05-01T23:52:45.267331Z"
    }
   },
   "outputs": [],
   "source": [
    "import quandl\n",
    "import pandas as pd\n",
    "import numpy as np\n",
    "import datetime\n",
    "import functools\n",
    "%load_ext rpy2.ipython"
   ]
  },
  {
   "cell_type": "code",
   "execution_count": 5,
   "metadata": {
    "ExecuteTime": {
     "end_time": "2020-05-01T23:54:43.955018Z",
     "start_time": "2020-05-01T23:54:43.952180Z"
    }
   },
   "outputs": [],
   "source": [
    "@functools.lru_cache(maxsize=16)\n",
    "def fetch_quandl(my_securities):\n",
    "    qdata = quandl.get(list(my_securities), returns=\"pandas\",\n",
    "                      api_key=BrianBoonstraPrivateKeys['Quandl'])\n",
    "    return qdata"
   ]
  },
  {
   "cell_type": "code",
   "execution_count": 6,
   "metadata": {
    "ExecuteTime": {
     "end_time": "2020-05-01T23:54:45.236130Z",
     "start_time": "2020-05-01T23:54:44.430852Z"
    }
   },
   "outputs": [],
   "source": [
    "daily = fetch_quandl((\"EOD/HYLS\",))['EOD/HYLS - Adj_Close'.format()]"
   ]
  },
  {
   "cell_type": "code",
   "execution_count": 7,
   "metadata": {
    "ExecuteTime": {
     "end_time": "2020-05-01T23:54:45.309962Z",
     "start_time": "2020-05-01T23:54:45.302725Z"
    }
   },
   "outputs": [
    {
     "data": {
      "text/plain": [
       "Date\n",
       "2020-04-17    45.608678\n",
       "2020-04-20    45.021399\n",
       "2020-04-21    44.460000\n",
       "2020-04-22    44.750000\n",
       "2020-04-23    44.840000\n",
       "2020-04-24    44.650000\n",
       "2020-04-27    44.585000\n",
       "2020-04-28    44.510000\n",
       "2020-04-29    44.790000\n",
       "2020-04-30    44.900000\n",
       "2020-05-01    44.620000\n",
       "Name: EOD/HYLS - Adj_Close, dtype: float64"
      ]
     },
     "execution_count": 7,
     "metadata": {},
     "output_type": "execute_result"
    }
   ],
   "source": [
    "daily.tail(11)"
   ]
  },
  {
   "cell_type": "code",
   "execution_count": 8,
   "metadata": {
    "ExecuteTime": {
     "end_time": "2020-05-01T23:54:46.920153Z",
     "start_time": "2020-05-01T23:54:46.903529Z"
    }
   },
   "outputs": [
    {
     "data": {
      "text/html": [
       "<div>\n",
       "<style scoped>\n",
       "    .dataframe tbody tr th:only-of-type {\n",
       "        vertical-align: middle;\n",
       "    }\n",
       "\n",
       "    .dataframe tbody tr th {\n",
       "        vertical-align: top;\n",
       "    }\n",
       "\n",
       "    .dataframe thead th {\n",
       "        text-align: right;\n",
       "    }\n",
       "</style>\n",
       "<table border=\"1\" class=\"dataframe\">\n",
       "  <thead>\n",
       "    <tr style=\"text-align: right;\">\n",
       "      <th></th>\n",
       "      <th>Adj_Close</th>\n",
       "      <th>Later</th>\n",
       "      <th>TwoDayFwdReturn</th>\n",
       "    </tr>\n",
       "    <tr>\n",
       "      <th>Date</th>\n",
       "      <th></th>\n",
       "      <th></th>\n",
       "      <th></th>\n",
       "    </tr>\n",
       "  </thead>\n",
       "  <tbody>\n",
       "    <tr>\n",
       "      <td>2020-04-17</td>\n",
       "      <td>45.608678</td>\n",
       "      <td>45.608678</td>\n",
       "      <td>0.000000</td>\n",
       "    </tr>\n",
       "    <tr>\n",
       "      <td>2020-04-20</td>\n",
       "      <td>45.021399</td>\n",
       "      <td>44.750000</td>\n",
       "      <td>-0.006028</td>\n",
       "    </tr>\n",
       "    <tr>\n",
       "      <td>2020-04-21</td>\n",
       "      <td>44.460000</td>\n",
       "      <td>44.840000</td>\n",
       "      <td>0.008547</td>\n",
       "    </tr>\n",
       "    <tr>\n",
       "      <td>2020-04-22</td>\n",
       "      <td>44.750000</td>\n",
       "      <td>44.650000</td>\n",
       "      <td>-0.002235</td>\n",
       "    </tr>\n",
       "    <tr>\n",
       "      <td>2020-04-23</td>\n",
       "      <td>44.840000</td>\n",
       "      <td>44.650000</td>\n",
       "      <td>-0.004237</td>\n",
       "    </tr>\n",
       "    <tr>\n",
       "      <td>2020-04-24</td>\n",
       "      <td>44.650000</td>\n",
       "      <td>44.650000</td>\n",
       "      <td>0.000000</td>\n",
       "    </tr>\n",
       "    <tr>\n",
       "      <td>2020-04-27</td>\n",
       "      <td>44.585000</td>\n",
       "      <td>44.790000</td>\n",
       "      <td>0.004598</td>\n",
       "    </tr>\n",
       "    <tr>\n",
       "      <td>2020-04-28</td>\n",
       "      <td>44.510000</td>\n",
       "      <td>44.900000</td>\n",
       "      <td>0.008762</td>\n",
       "    </tr>\n",
       "  </tbody>\n",
       "</table>\n",
       "</div>"
      ],
      "text/plain": [
       "            Adj_Close      Later  TwoDayFwdReturn\n",
       "Date                                             \n",
       "2020-04-17  45.608678  45.608678         0.000000\n",
       "2020-04-20  45.021399  44.750000        -0.006028\n",
       "2020-04-21  44.460000  44.840000         0.008547\n",
       "2020-04-22  44.750000  44.650000        -0.002235\n",
       "2020-04-23  44.840000  44.650000        -0.004237\n",
       "2020-04-24  44.650000  44.650000         0.000000\n",
       "2020-04-27  44.585000  44.790000         0.004598\n",
       "2020-04-28  44.510000  44.900000         0.008762"
      ]
     },
     "execution_count": 8,
     "metadata": {},
     "output_type": "execute_result"
    }
   ],
   "source": [
    "later = daily.reindex(daily.index + pd.Timedelta('2d')).fillna(method='ffill')\n",
    "later.index = daily.index\n",
    "ret2 = later / daily - 1\n",
    "returns_2_day = pd.DataFrame({'Adj_Close':daily, 'Later':later, 'TwoDayFwdReturn':ret2})\n",
    "returns_2_day.tail(11).head(8)"
   ]
  },
  {
   "cell_type": "code",
   "execution_count": 9,
   "metadata": {
    "ExecuteTime": {
     "end_time": "2020-05-01T23:54:48.782528Z",
     "start_time": "2020-05-01T23:54:48.240356Z"
    }
   },
   "outputs": [
    {
     "data": {
      "text/plain": [
       "         Date Adj_Close      LDate    Later TwoDayFwdReturn\n",
       "1: 2020-04-17  45.60868 2020-04-19 45.60868     0.000000000\n",
       "2: 2020-04-20  45.02140 2020-04-22 44.75000    -0.006028218\n",
       "3: 2020-04-21  44.46000 2020-04-23 44.84000     0.008547009\n",
       "4: 2020-04-22  44.75000 2020-04-24 44.65000    -0.002234637\n",
       "5: 2020-04-23  44.84000 2020-04-25 44.65000    -0.004237288\n",
       "6: 2020-04-24  44.65000 2020-04-26 44.65000     0.000000000\n",
       "7: 2020-04-27  44.58500 2020-04-29 44.79000     0.004597959\n",
       "8: 2020-04-28  44.51000 2020-04-30 44.90000     0.008762076\n"
      ]
     },
     "metadata": {},
     "output_type": "display_data"
    }
   ],
   "source": [
    "%%R\n",
    "\n",
    "Quandl::Quandl.api_key(BrianBoonstraPrivateKeys.Quandl)\n",
    "r_daily = Quandl::Quandl(code=\"EOD/HYLS\")\n",
    "\n",
    "HYLS_P_tbl = data.table::data.table(r_daily[,c('Date', 'Adj_Close')], key='Date')\n",
    "HYLS_P_tbl[, LDate := Date+2L]\n",
    "\n",
    "HYLS_P_tbl[, Later := HYLS_P_tbl[.(Date=Date+2L), Adj_Close, roll=+2, mult=\"last\", on=\"Date\"]]\n",
    "HYLS_P_tbl[, TwoDayFwdReturn := Later/Adj_Close-1]\n",
    "\n",
    "\n",
    "head(tail(HYLS_P_tbl, 11) ,8)\n",
    "\n"
   ]
  },
  {
   "cell_type": "code",
   "execution_count": null,
   "metadata": {},
   "outputs": [],
   "source": []
  }
 ],
 "metadata": {
  "kernelspec": {
   "display_name": "Python 3 (ipykernel)",
   "language": "python",
   "name": "python3"
  },
  "language_info": {
   "codemirror_mode": {
    "name": "ipython",
    "version": 3
   },
   "file_extension": ".py",
   "mimetype": "text/x-python",
   "name": "python",
   "nbconvert_exporter": "python",
   "pygments_lexer": "ipython3",
   "version": "3.9.1"
  }
 },
 "nbformat": 4,
 "nbformat_minor": 4
}
